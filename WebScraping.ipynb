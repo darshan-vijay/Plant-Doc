{
 "cells": [
  {
   "metadata": {
    "ExecuteTime": {
     "end_time": "2025-04-15T23:48:48.065046Z",
     "start_time": "2025-04-15T23:48:48.042945Z"
    }
   },
   "cell_type": "code",
   "source": [
    "from googlesearch import search\n",
    "\n",
    "def get_disease_articles(disease_name, num_results=2):\n",
    "    query = f\"{disease_name} plant disease symptoms and treatment site:.edu OR site:.org\"\n",
    "    urls = list(search(query, num_results=num_results))\n",
    "    return urls\n"
   ],
   "id": "691f70639dc485c3",
   "outputs": [
    {
     "ename": "ImportError",
     "evalue": "cannot import name 'search' from 'googlesearch' (/Users/darshanvijayaraghavan/Documents/Sem 2/Neural Networks/Plant disease preds/plantvillage_env/lib/python3.13/site-packages/googlesearch/__init__.py)",
     "output_type": "error",
     "traceback": [
      "\u001B[31m---------------------------------------------------------------------------\u001B[39m",
      "\u001B[31mImportError\u001B[39m                               Traceback (most recent call last)",
      "\u001B[36mCell\u001B[39m\u001B[36m \u001B[39m\u001B[32mIn[8]\u001B[39m\u001B[32m, line 1\u001B[39m\n\u001B[32m----> \u001B[39m\u001B[32m1\u001B[39m \u001B[38;5;28;01mfrom\u001B[39;00m\u001B[38;5;250m \u001B[39m\u001B[34;01mgooglesearch\u001B[39;00m\u001B[38;5;250m \u001B[39m\u001B[38;5;28;01mimport\u001B[39;00m search\n\u001B[32m      3\u001B[39m \u001B[38;5;28;01mdef\u001B[39;00m\u001B[38;5;250m \u001B[39m\u001B[34mget_disease_articles\u001B[39m(disease_name, num_results=\u001B[32m2\u001B[39m):\n\u001B[32m      4\u001B[39m     query = \u001B[33mf\u001B[39m\u001B[33m\"\u001B[39m\u001B[38;5;132;01m{\u001B[39;00mdisease_name\u001B[38;5;132;01m}\u001B[39;00m\u001B[33m plant disease symptoms and treatment site:.edu OR site:.org\u001B[39m\u001B[33m\"\u001B[39m\n",
      "\u001B[31mImportError\u001B[39m: cannot import name 'search' from 'googlesearch' (/Users/darshanvijayaraghavan/Documents/Sem 2/Neural Networks/Plant disease preds/plantvillage_env/lib/python3.13/site-packages/googlesearch/__init__.py)"
     ]
    }
   ],
   "execution_count": 8
  },
  {
   "metadata": {},
   "cell_type": "code",
   "outputs": [],
   "execution_count": null,
   "source": [
    "import requests\n",
    "from bs4 import BeautifulSoup\n",
    "\n",
    "def extract_text_from_url(url):\n",
    "    try:\n",
    "        response = requests.get(url, timeout=10)\n",
    "        soup = BeautifulSoup(response.content, \"html.parser\")\n",
    "        paragraphs = soup.find_all(\"p\")\n",
    "        text = \"\\n\".join(p.get_text() for p in paragraphs)\n",
    "        return text\n",
    "    except Exception as e:\n",
    "        print(f\"Failed to fetch from {url}: {e}\")\n",
    "        return \"\"\n"
   ],
   "id": "9325226d89de6474"
  },
  {
   "metadata": {},
   "cell_type": "code",
   "outputs": [],
   "execution_count": null,
   "source": [
    "def get_combined_text(urls):\n",
    "    texts = [extract_text_from_url(url) for url in urls]\n",
    "    combined_text = \"\\n\".join(texts)\n",
    "    return combined_text\n"
   ],
   "id": "b4702475b9037553"
  },
  {
   "metadata": {},
   "cell_type": "code",
   "outputs": [],
   "execution_count": null,
   "source": [
    "from transformers import pipeline\n",
    "\n",
    "summarizer = pipeline(\"summarization\", model=\"facebook/bart-large-cnn\")\n",
    "\n",
    "def summarize_symptoms_and_treatment(text):\n",
    "    prompt_symptoms = f\"Extract symptoms of the plant disease from this:\\n{text}\"\n",
    "    prompt_treatment = f\"Extract treatment options for the plant disease from this:\\n{text}\"\n",
    "\n",
    "    symptoms = summarizer(prompt_symptoms, max_length=100, min_length=30, do_sample=False)[0]['summary_text']\n",
    "    treatment = summarizer(prompt_treatment, max_length=100, min_length=30, do_sample=False)[0]['summary_text']\n",
    "\n",
    "    return symptoms, treatment\n"
   ],
   "id": "84c800c2e8d8577a"
  }
 ],
 "metadata": {
  "kernelspec": {
   "name": "python3",
   "language": "python",
   "display_name": "Python 3 (ipykernel)"
  }
 },
 "nbformat": 5,
 "nbformat_minor": 9
}
