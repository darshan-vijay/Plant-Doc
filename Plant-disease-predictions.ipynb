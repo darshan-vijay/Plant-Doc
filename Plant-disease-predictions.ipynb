{
 "cells": [
  {
   "cell_type": "code",
   "id": "7c54aae3",
   "metadata": {
    "ExecuteTime": {
     "end_time": "2025-04-15T18:01:49.766145Z",
     "start_time": "2025-04-15T18:01:49.693608Z"
    }
   },
   "source": [
    "import torch\n",
    "from torchvision import datasets, transforms\n",
    "from torch.utils.data import DataLoader\n",
    "\n",
    "# Define transforms\n",
    "transform = transforms.Compose([\n",
    "    transforms.Resize((128, 128)),\n",
    "    transforms.RandomHorizontalFlip(),\n",
    "    transforms.RandomRotation(15),\n",
    "    transforms.ToTensor(),\n",
    "    transforms.Normalize([0.5]*3, [0.5]*3)\n",
    "])\n",
    "\n",
    "\n",
    "# Dataset paths\n",
    "train_dir = './PlantVillage/train'\n",
    "val_dir = './PlantVillage/val'\n",
    "\n",
    "# Create datasets\n",
    "train_dataset = datasets.ImageFolder(root=train_dir, transform=transform)\n",
    "val_dataset = datasets.ImageFolder(root=val_dir, transform=transform)\n",
    "\n",
    "# Create dataloaders\n",
    "train_loader = DataLoader(train_dataset, batch_size=32, shuffle=True, num_workers=4)\n",
    "val_loader = DataLoader(val_dataset, batch_size=32, shuffle=False, num_workers=4)\n",
    "\n",
    "num_classes = len(train_dataset.classes)\n"
   ],
   "outputs": [],
   "execution_count": 19
  },
  {
   "cell_type": "code",
   "id": "e19f0bb1",
   "metadata": {
    "ExecuteTime": {
     "end_time": "2025-04-15T18:01:49.771906Z",
     "start_time": "2025-04-15T18:01:49.770142Z"
    }
   },
   "source": [
    "class_names = train_dataset.classes\n",
    "print(\"Classes:\", class_names)"
   ],
   "outputs": [
    {
     "name": "stdout",
     "output_type": "stream",
     "text": [
      "Classes: ['Apple___Apple_scab', 'Apple___Black_rot', 'Apple___Cedar_apple_rust', 'Apple___healthy', 'Blueberry___healthy', 'Cherry_(including_sour)___Powdery_mildew', 'Cherry_(including_sour)___healthy', 'Corn_(maize)___Cercospora_leaf_spot Gray_leaf_spot', 'Corn_(maize)___Common_rust_', 'Corn_(maize)___Northern_Leaf_Blight', 'Corn_(maize)___healthy', 'Grape___Black_rot', 'Grape___Esca_(Black_Measles)', 'Grape___Leaf_blight_(Isariopsis_Leaf_Spot)', 'Grape___healthy', 'Orange___Haunglongbing_(Citrus_greening)', 'Peach___Bacterial_spot', 'Peach___healthy', 'Pepper,_bell___Bacterial_spot', 'Pepper,_bell___healthy', 'Potato___Early_blight', 'Potato___Late_blight', 'Potato___healthy', 'Raspberry___healthy', 'Soybean___healthy', 'Squash___Powdery_mildew', 'Strawberry___Leaf_scorch', 'Strawberry___healthy', 'Tomato___Bacterial_spot', 'Tomato___Early_blight', 'Tomato___Late_blight', 'Tomato___Leaf_Mold', 'Tomato___Septoria_leaf_spot', 'Tomato___Spider_mites Two-spotted_spider_mite', 'Tomato___Target_Spot', 'Tomato___Tomato_Yellow_Leaf_Curl_Virus', 'Tomato___Tomato_mosaic_virus', 'Tomato___healthy']\n"
     ]
    }
   ],
   "execution_count": 20
  },
  {
   "metadata": {
    "ExecuteTime": {
     "end_time": "2025-04-15T18:01:49.966443Z",
     "start_time": "2025-04-15T18:01:49.964786Z"
    }
   },
   "cell_type": "code",
   "source": [
    "import torch\n",
    "import torch.nn as nn\n",
    "import torchvision.models as models\n",
    "from torchvision import datasets, transforms\n",
    "from torch.utils.data import DataLoader\n",
    "import os"
   ],
   "id": "4a15dd057ab7c4f3",
   "outputs": [],
   "execution_count": 21
  },
  {
   "metadata": {
    "ExecuteTime": {
     "end_time": "2025-04-15T18:01:50.689979Z",
     "start_time": "2025-04-15T18:01:50.295573Z"
    }
   },
   "cell_type": "code",
   "source": [
    "import torch\n",
    "import torch.nn as nn\n",
    "import torchvision.models as models\n",
    "\n",
    "device = torch.device(\"mps\" if torch.backends.mps.is_available() else \"cpu\")\n",
    "\n",
    "# Load pretrained ResNet50\n",
    "model = models.resnet50(pretrained=True)\n",
    "\n",
    "# Freeze all layers initially\n",
    "for param in model.parameters():\n",
    "    param.requires_grad = False\n",
    "\n",
    "# Unfreeze layer4 and fc\n",
    "for param in model.layer4.parameters():\n",
    "    param.requires_grad = True\n",
    "\n",
    "# Define custom classifier head\n",
    "model.fc = nn.Sequential(\n",
    "    nn.Linear(model.fc.in_features, 256),\n",
    "    nn.BatchNorm1d(256),        # improves convergence\n",
    "    nn.ReLU(),\n",
    "    nn.Dropout(0.2),\n",
    "    nn.Linear(256, num_classes)\n",
    ")\n",
    "\n",
    "# Ensure new head is trainable\n",
    "for param in model.fc.parameters():\n",
    "    param.requires_grad = True\n",
    "\n",
    "# Apply Kaiming initialization to new Linear layers\n",
    "def init_weights(m):\n",
    "    if isinstance(m, nn.Linear):\n",
    "        nn.init.kaiming_normal_(m.weight)\n",
    "        nn.init.zeros_(m.bias)\n",
    "\n",
    "model.fc.apply(init_weights)\n",
    "\n",
    "model = model.to(device)\n"
   ],
   "id": "4f58ff7f00bad7f3",
   "outputs": [],
   "execution_count": 22
  },
  {
   "metadata": {
    "ExecuteTime": {
     "end_time": "2025-04-15T18:01:50.694413Z",
     "start_time": "2025-04-15T18:01:50.692520Z"
    }
   },
   "cell_type": "code",
   "source": [
    "criterion = nn.CrossEntropyLoss()\n",
    "optimizer = torch.optim.Adam(\n",
    "    filter(lambda p: p.requires_grad, model.parameters()),\n",
    "    lr=1e-4,\n",
    "    weight_decay=1e-5\n",
    ")"
   ],
   "id": "aa90d271963932c3",
   "outputs": [],
   "execution_count": 23
  },
  {
   "metadata": {
    "ExecuteTime": {
     "end_time": "2025-04-15T18:53:06.886754Z",
     "start_time": "2025-04-15T18:02:25.331879Z"
    }
   },
   "cell_type": "code",
   "source": [
    "import matplotlib.pyplot as plt\n",
    "\n",
    "num_epochs = 10\n",
    "train_accuracies = []\n",
    "val_accuracies = []\n",
    "train_losses = []\n",
    "\n",
    "best_val_acc = 0.0\n",
    "best_model_path = \"best_resnet50.pth\"\n",
    "\n",
    "for epoch in range(num_epochs):\n",
    "    # --- Training ---\n",
    "    model.train()\n",
    "    running_loss = 0.0\n",
    "    correct_train = 0\n",
    "    total_train = 0\n",
    "\n",
    "    for inputs, labels in train_loader:\n",
    "        inputs, labels = inputs.to(device), labels.to(device)\n",
    "\n",
    "        optimizer.zero_grad()\n",
    "        outputs = model(inputs)\n",
    "        loss = criterion(outputs, labels)\n",
    "        loss.backward()\n",
    "        optimizer.step()\n",
    "\n",
    "        running_loss += loss.item()\n",
    "        _, preds = torch.max(outputs, 1)\n",
    "        correct_train += (preds == labels).sum().item()\n",
    "        total_train += labels.size(0)\n",
    "\n",
    "    train_loss = running_loss / len(train_loader)\n",
    "    train_losses.append(train_loss)\n",
    "    train_acc = 100 * correct_train / total_train\n",
    "    train_accuracies.append(train_acc)\n",
    "\n",
    "    # --- Validation ---\n",
    "    model.eval()\n",
    "    correct_val = 0\n",
    "    total_val = 0\n",
    "\n",
    "    with torch.no_grad():\n",
    "        for inputs, labels in val_loader:\n",
    "            inputs, labels = inputs.to(device), labels.to(device)\n",
    "            outputs = model(inputs)\n",
    "            _, preds = torch.max(outputs, 1)\n",
    "            correct_val += (preds == labels).sum().item()\n",
    "            total_val += labels.size(0)\n",
    "\n",
    "    val_acc = 100 * correct_val / total_val\n",
    "    val_accuracies.append(val_acc)\n",
    "\n",
    "    # --- Save best model ---\n",
    "    if val_acc > best_val_acc:\n",
    "        best_val_acc = val_acc\n",
    "        torch.save(model.state_dict(), best_model_path)\n",
    "        print(f\"Saved Best Model at Epoch {epoch+1} with Val Acc: {val_acc:.2f}%\")\n",
    "\n",
    "    print(f\"Epoch [{epoch+1}/{num_epochs}] - \"\n",
    "          f\"Train Loss: {train_loss:.4f}, \"\n",
    "          f\"Train Acc: {train_acc:.2f}%, \"\n",
    "          f\"Val Acc: {val_acc:.2f}%\")\n",
    "\n",
    "# --- Print all epoch-level results after training ---\n",
    "print(\"\\n Epoch-level Summary:\")\n",
    "for i in range(num_epochs):\n",
    "    print(f\"Epoch {i+1:2d}: Train Acc = {train_accuracies[i]:.2f}%, \"\n",
    "          f\"Val Acc = {val_accuracies[i]:.2f}%, \"\n",
    "          f\"Loss = {train_losses[i]:.4f}\")\n"
   ],
   "id": "5179775036c25b98",
   "outputs": [
    {
     "name": "stdout",
     "output_type": "stream",
     "text": [
      "Saved Best Model at Epoch 1 with Val Acc: 97.75%\n",
      "Epoch [1/10] - Train Loss: 0.2238, Train Acc: 93.78%, Val Acc: 97.75%\n",
      "Saved Best Model at Epoch 2 with Val Acc: 98.32%\n",
      "Epoch [2/10] - Train Loss: 0.0995, Train Acc: 96.95%, Val Acc: 98.32%\n",
      "Saved Best Model at Epoch 3 with Val Acc: 98.38%\n",
      "Epoch [3/10] - Train Loss: 0.0747, Train Acc: 97.88%, Val Acc: 98.38%\n",
      "Saved Best Model at Epoch 4 with Val Acc: 98.80%\n",
      "Epoch [4/10] - Train Loss: 0.0580, Train Acc: 98.27%, Val Acc: 98.80%\n",
      "Saved Best Model at Epoch 5 with Val Acc: 98.93%\n",
      "Epoch [5/10] - Train Loss: 0.0520, Train Acc: 98.46%, Val Acc: 98.93%\n",
      "Epoch [6/10] - Train Loss: 0.0432, Train Acc: 98.72%, Val Acc: 98.79%\n",
      "Epoch [7/10] - Train Loss: 0.0377, Train Acc: 98.88%, Val Acc: 98.91%\n",
      "Saved Best Model at Epoch 8 with Val Acc: 99.14%\n",
      "Epoch [8/10] - Train Loss: 0.0341, Train Acc: 98.99%, Val Acc: 99.14%\n",
      "Epoch [9/10] - Train Loss: 0.0300, Train Acc: 99.10%, Val Acc: 98.96%\n",
      "Saved Best Model at Epoch 10 with Val Acc: 99.21%\n",
      "Epoch [10/10] - Train Loss: 0.0286, Train Acc: 99.17%, Val Acc: 99.21%\n",
      "\n",
      " Epoch-level Summary:\n",
      "Epoch  1: Train Acc = 93.78%, Val Acc = 97.75%, Loss = 0.2238\n",
      "Epoch  2: Train Acc = 96.95%, Val Acc = 98.32%, Loss = 0.0995\n",
      "Epoch  3: Train Acc = 97.88%, Val Acc = 98.38%, Loss = 0.0747\n",
      "Epoch  4: Train Acc = 98.27%, Val Acc = 98.80%, Loss = 0.0580\n",
      "Epoch  5: Train Acc = 98.46%, Val Acc = 98.93%, Loss = 0.0520\n",
      "Epoch  6: Train Acc = 98.72%, Val Acc = 98.79%, Loss = 0.0432\n",
      "Epoch  7: Train Acc = 98.88%, Val Acc = 98.91%, Loss = 0.0377\n",
      "Epoch  8: Train Acc = 98.99%, Val Acc = 99.14%, Loss = 0.0341\n",
      "Epoch  9: Train Acc = 99.10%, Val Acc = 98.96%, Loss = 0.0300\n",
      "Epoch 10: Train Acc = 99.17%, Val Acc = 99.21%, Loss = 0.0286\n"
     ]
    }
   ],
   "execution_count": 25
  },
  {
   "metadata": {
    "ExecuteTime": {
     "end_time": "2025-04-15T18:53:07.328818Z",
     "start_time": "2025-04-15T18:53:07.247749Z"
    }
   },
   "cell_type": "code",
   "source": [
    "plt.figure(figsize=(10, 6))\n",
    "plt.plot(train_accuracies, label='Train Accuracy')\n",
    "plt.plot(val_accuracies, label='Validation Accuracy')\n",
    "plt.xlabel('Epoch')\n",
    "plt.ylabel('Accuracy (%)')\n",
    "plt.title('Training and Validation Accuracy')\n",
    "plt.legend()\n",
    "plt.grid(True)\n",
    "plt.show()"
   ],
   "id": "1e3aab6eaca0eaef",
   "outputs": [
    {
     "data": {
      "text/plain": [
       "<Figure size 1000x600 with 1 Axes>"
      ],
      "image/png": "[encoded data removed]"
     },
     "metadata": {},
     "output_type": "display_data"
    }
   ],
   "execution_count": 26
  },
  {
   "metadata": {},
   "cell_type": "code",
   "outputs": [],
   "execution_count": null,
   "source": "",
   "id": "2feecdd0e5c7bb85"
  }
 ],
 "metadata": {
  "kernelspec": {
   "display_name": "Python 3",
   "language": "python",
   "name": "python3"
  },
  "language_info": {
   "codemirror_mode": {
    "name": "ipython",
    "version": 3
   },
   "file_extension": ".py",
   "mimetype": "text/x-python",
   "name": "python",
   "nbconvert_exporter": "python",
   "pygments_lexer": "ipython3",
   "version": "3.11.10"
  }
 },
 "nbformat": 4,
 "nbformat_minor": 5
}
